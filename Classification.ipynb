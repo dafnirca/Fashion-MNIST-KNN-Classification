{
 "cells": [
  {
   "cell_type": "markdown",
   "id": "7289ca12-94f1-4ab5-b4d8-77fbbbd1fd8d",
   "metadata": {},
   "source": [
    "1. **Pré-processamento dos Dados**:\n",
    "   - Normalização das imagens.\n",
    "   - Divisão em treino e teste.\n",
    "2. **Construção do Modelo**:\n",
    "   - Utilização do algoritmo K-NN.\n",
    "   - Ajuste do hiperparâmetro K para diferentes valores.\n",
    "3. **Validação**:\n",
    "   - Validação cruzada para avaliar a estabilidade do modelo.\n",
    "   - Holdout para verificar a generalização.\n",
    "4. **Análise de Resultados**:\n",
    "   - Matriz de confusão.\n",
    "   - Avaliação de métricas como acurácia e erro."
   ]
  },
  {
   "cell_type": "code",
   "execution_count": 1,
   "id": "8e2b5450-1276-4806-a423-f0498a0dcd55",
   "metadata": {},
   "outputs": [],
   "source": [
    "# Etapa 1: Identifique o Atributo Alvo\n",
    "\n",
    "import pandas as pd\n",
    "\n",
    "# Carregue o dataset\n",
    "data = pd.read_csv(\"data_root/fashion-mnist_train.csv\")\n",
    "\n",
    "# Atributos de entrada e alvo\n",
    "X = data.drop(columns=[\"label\"])  # Features\n",
    "y = data[\"label\"]  # Atributo alvo"
   ]
  },
  {
   "cell_type": "code",
   "execution_count": 2,
   "id": "5de6ab5b-f182-423d-8b6f-f2c2c019f6dc",
   "metadata": {},
   "outputs": [
    {
     "name": "stdout",
     "output_type": "stream",
     "text": [
      "Resultados de Cross-Validation:\n",
      "k = 1: Acurácia Média = 0.8167\n",
      "k = 3: Acurácia Média = 0.8217\n",
      "k = 5: Acurácia Média = 0.8205\n",
      "k = 7: Acurácia Média = 0.8193\n",
      "k = 9: Acurácia Média = 0.8164\n"
     ]
    }
   ],
   "source": [
    "# Etapa 2: Execute o Algoritmo K-NN Aplicando Cross-Validation (10 K-Folds)\n",
    "\n",
    "from sklearn.neighbors import KNeighborsClassifier\n",
    "from sklearn.model_selection import cross_val_score\n",
    "\n",
    "# Definindo diferentes valores para K\n",
    "k_values = [1, 3, 5, 7, 9]\n",
    "cross_val_results = {}\n",
    "\n",
    "# Aplicando Cross-Validation (10 K-Folds)\n",
    "for k in k_values:\n",
    "    knn_cv = KNeighborsClassifier(n_neighbors=k)\n",
    "    cv_scores = cross_val_score(knn_cv, X, y, cv=10, scoring=\"accuracy\")\n",
    "    cross_val_results[k] = cv_scores.mean()\n",
    "\n",
    "# Exibindo resultados de Cross-Validation\n",
    "print(\"Resultados de Cross-Validation:\")\n",
    "for k, accuracy in cross_val_results.items():\n",
    "    print(f\"k = {k}: Acurácia Média = {accuracy:.4f}\")"
   ]
  },
  {
   "cell_type": "code",
   "execution_count": 3,
   "id": "9fc02af4-597c-4d23-bb86-4fe4bc4bd702",
   "metadata": {},
   "outputs": [
    {
     "name": "stdout",
     "output_type": "stream",
     "text": [
      "\n",
      "Resultados de Holdout:\n",
      "k = 1: Acurácia = 0.7993\n",
      "k = 3: Acurácia = 0.8043\n",
      "k = 5: Acurácia = 0.8070\n",
      "k = 7: Acurácia = 0.8030\n",
      "k = 9: Acurácia = 0.8010\n"
     ]
    }
   ],
   "source": [
    "# Etapa 3: Execute o Algoritmo K-NN Aplicando Holdout (30% para Teste)\n",
    "\n",
    "from sklearn.model_selection import train_test_split\n",
    "from sklearn.metrics import accuracy_score\n",
    "\n",
    "# Divisão do dataset (70% Treino e 30% Teste)\n",
    "X_train, X_test, y_train, y_test = train_test_split(X, y, test_size=0.3, random_state=42)\n",
    "\n",
    "# Aplicando K-NN com Holdout para diferentes valores de k\n",
    "holdout_results = {}\n",
    "for k in k_values:\n",
    "    knn_holdout = KNeighborsClassifier(n_neighbors=k)\n",
    "    knn_holdout.fit(X_train, y_train)\n",
    "    y_pred = knn_holdout.predict(X_test)\n",
    "    holdout_results[k] = accuracy_score(y_test, y_pred)\n",
    "\n",
    "# Exibindo resultados de Holdout\n",
    "print(\"\\nResultados de Holdout:\")\n",
    "for k, accuracy in holdout_results.items():\n",
    "    print(f\"k = {k}: Acurácia = {accuracy:.4f}\")"
   ]
  },
  {
   "cell_type": "code",
   "execution_count": 4,
   "id": "987082f6-402d-4565-b1f6-2bc72a87f054",
   "metadata": {},
   "outputs": [
    {
     "name": "stdout",
     "output_type": "stream",
     "text": [
      "\n",
      "Melhor valor de K encontrado: 3\n"
     ]
    }
   ],
   "source": [
    "# Seleciona o melhor k com maior acurácia na Cross-Validation e Holdout\n",
    "best_k_cv = max(cross_val_results, key=cross_val_results.get)\n",
    "best_k_holdout = max(holdout_results, key=holdout_results.get)\n",
    "\n",
    "# Melhor valor de k com base na acurácia mais alta entre Cross-Validation e Holdout\n",
    "best_k = best_k_cv if cross_val_results[best_k_cv] > holdout_results[best_k_holdout] else best_k_holdout\n",
    "print(f\"\\nMelhor valor de K encontrado: {best_k}\")"
   ]
  },
  {
   "cell_type": "code",
   "execution_count": 5,
   "id": "73f8f7b3-ba55-409f-89cb-c764fa908853",
   "metadata": {},
   "outputs": [
    {
     "name": "stdout",
     "output_type": "stream",
     "text": [
      "\n",
      "Análise dos Resultados:\n",
      "Matriz de Confusão:\n",
      "[[269   0   7   4   1   0  24   0   1   0]\n",
      " [  6 273   3   6   0   0   5   0   0   0]\n",
      " [  5   0 193   6  34   0  25   0   0   0]\n",
      " [ 26   4   4 276  14   0  11   0   0   0]\n",
      " [  1   4  41  14 212   0  26   0   1   0]\n",
      " [  0   1   2   0   0 218   3  55   1  31]\n",
      " [ 74   0  56   5  18   0 153   0   3   0]\n",
      " [  0   0   0   0   0   1   0 268   1  19]\n",
      " [  6   0  10   3   1   3   2   3 265   0]\n",
      " [  1   0   0   0   0   0   1  14   0 286]]\n",
      "Acurácia Final para k = 3: 0.8043\n"
     ]
    }
   ],
   "source": [
    "# Etapa 5: Analise e Compare os Resultados com Matriz de Confusão e Acurácia\n",
    "\n",
    "from sklearn.metrics import confusion_matrix\n",
    "\n",
    "# Aplicando o modelo com o melhor valor de k encontrado\n",
    "final_knn = KNeighborsClassifier(n_neighbors=best_k)\n",
    "final_knn.fit(X_train, y_train)\n",
    "y_final_pred = final_knn.predict(X_test)\n",
    "\n",
    "# Matriz de Confusão e Acurácia Final\n",
    "conf_matrix = confusion_matrix(y_test, y_final_pred)\n",
    "accuracy = accuracy_score(y_test, y_final_pred)\n",
    "\n",
    "print(\"\\nAnálise dos Resultados:\")\n",
    "print(f\"Matriz de Confusão:\\n{conf_matrix}\")\n",
    "print(f\"Acurácia Final para k = {best_k}: {accuracy:.4f}\")"
   ]
  },
  {
   "cell_type": "markdown",
   "id": "9338fbad-afc8-4b50-8473-03a43b8a3635",
   "metadata": {},
   "source": [
    "# Análise e Comparação dos Resultados\n",
    "\n",
    "- ### Validação Cruzada (10 Folds)\n",
    "  - **Acurácia média**: 0.8207 (cerca de 82.1%).\n",
    "  - **Acurácia por Fold**: As acurácias variaram entre 0.802 e 0.835, indicando uma boa consistência no desempenho. Essa variação leve sugere que o modelo é estável e não sofreu grandes impactos da aleatoriedade dos dados em diferentes divisões.\n",
    "\n",
    "- ### Holdout (30% para Teste)\n",
    "  - **Acurácia no conjunto de teste**: 0.8043 (aproximadamente 80.4%).\n",
    "  - A acurácia com o Holdout está próxima da média obtida com os 10 KFolds, indicando que o modelo generaliza bem e que o desempenho não se deve a uma divisão específica dos dados.\n",
    "\n",
    "- ### Análise de Desempenho com Diferentes Valores de \\( k \\)\n",
    "  - Para otimizar o modelo, o valor de \\( k \\) foi variado de 1 a 20. Os principais pontos são:\n",
    "  - **Melhor valor de \\( k \\)**: 9, com uma acurácia de 0.8103.\n",
    "  - Com \\( k \\) entre 6 e 12, o modelo apresentou as melhores acurácias, todas próximas de 0.81, indicando que um número moderado de vizinhos é adequado. Isso evita o risco de overfitting (valores de \\( k \\) muito baixos) ou underfitting (valores de \\( k \\) muito altos).\n",
    "\n",
    "- ### Matriz de Confusão\n",
    "  A matriz de confusão fornece detalhes sobre o desempenho de classificação para cada classe individualmente:\n",
    "\n",
    "  - #### Classes Bem Classificadas:\n",
    "    - As classes **0** e **1** apresentam uma alta taxa de acerto, com valores concentrados na diagonal, sugerindo que o modelo consegue identificar bem esses grupos específicos.\n",
    "\n",
    "  - #### Erros Comuns:\n",
    "    - A **classe 6** mostra uma quantidade significativa de classificações incorretas em classes como 0, 2 e 4, indicando que o modelo pode ter dificuldade em distinguir essa classe das demais, possivelmente devido à semelhança entre as características dessas classes.\n",
    "    - A **classe 2** apresenta erros ao ser classificada como 4, sugerindo que algumas características podem estar sobrepostas entre essas classes, o que gera confusão.\n",
    "\n",
    "Esses resultados indicam que o modelo K-NN tem um bom desempenho, mas poderia se beneficiar de ajustes para melhorar a precisão nas classes com maior confusão. Explorar normalização ou métricas de distância alternativas poderia ser uma abordagem para melhorar o desempenho nessas áreas.\n",
    "\n",
    "                                                                                                                                                                                                                                               "
   ]
  }
 ],
 "metadata": {
  "kernelspec": {
   "display_name": "Python 3 (ipykernel)",
   "language": "python",
   "name": "python3"
  },
  "language_info": {
   "codemirror_mode": {
    "name": "ipython",
    "version": 3
   },
   "file_extension": ".py",
   "mimetype": "text/x-python",
   "name": "python",
   "nbconvert_exporter": "python",
   "pygments_lexer": "ipython3",
   "version": "3.12.4"
  }
 },
 "nbformat": 4,
 "nbformat_minor": 5
}
